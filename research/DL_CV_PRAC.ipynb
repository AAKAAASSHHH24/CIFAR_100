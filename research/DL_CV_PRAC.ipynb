{
  "nbformat": 4,
  "nbformat_minor": 0,
  "metadata": {
    "colab": {
      "provenance": []
    },
    "kernelspec": {
      "name": "python3",
      "display_name": "Python 3"
    },
    "language_info": {
      "name": "python"
    }
  },
  "cells": [
    {
      "cell_type": "markdown",
      "source": [
        "**Objective: - Image Classification with CIFAR 100**"
      ],
      "metadata": {
        "id": "I06AD-l-0NJY"
      }
    },
    {
      "cell_type": "markdown",
      "source": [
        "This dataset is just like the CIFAR-10, except it has 100 classes containing 600\n",
        "images each. There are 500 training images and 100 testing images per class.\n",
        "The 100 classes in the CIFAR-100 are grouped into 20 superclasses. Each image\n",
        "comes with a &quot;fine&quot; label (the class to which it belongs) and a &quot;coarse&quot; label\n",
        "(the superclass to which it belongs).\n",
        "\n",
        "Dataset Link: - https://www.cs.toronto.edu/~kriz/cifar-10-python.tar.gz\n",
        "The dataset is not direct images. Please decode it using your own techniques.\n",
        "\n",
        "**Task: - Create a Web Application using Flask. Use the end user should be able\n",
        "to upload an image and get results with the prediction score.**"
      ],
      "metadata": {
        "id": "Ryws2TN0zvWa"
      }
    },
    {
      "cell_type": "markdown",
      "source": [
        "To create a web application using Flask for image classification with the CIFAR-100 dataset, follow these steps:\n",
        "\n",
        "Load and pre-process the CIFAR-100 dataset. This includes decoding the images, splitting into training and testing sets, and possibly transforming or normalizing the data.\n",
        "\n",
        "Train a deep learning model on the training data. This could be a convolutional neural network (CNN) or another type of image classification model.\n",
        "\n",
        "Evaluate the model on the test data and save the model weights.\n",
        "\n",
        "Set up a Flask web server and create the HTML templates for the user interface. This includes the form for uploading an image and displaying the prediction results.\n",
        "\n",
        "Write the code for the prediction endpoint in Flask that takes an uploaded image, pre-processes it, and feeds it through the saved model to get the prediction scores for each class.\n",
        "\n",
        "Finally, test the web application to ensure it is working as expected and make any necessary improvements or bug fixes."
      ],
      "metadata": {
        "id": "rCp2g9Oz0W2m"
      }
    },
    {
      "cell_type": "code",
      "source": [
        "import os\n",
        "os.chdir('/content/drive/MyDrive/DL_CV_PRACTICAL')"
      ],
      "metadata": {
        "id": "cSgvp9jzuTrN"
      },
      "execution_count": null,
      "outputs": []
    },
    {
      "cell_type": "code",
      "source": [
        "!wget https://www.cs.toronto.edu/~kriz/cifar-100-python.tar.gz\n",
        "!tar xzvf cifar-100-python.tar.gz"
      ],
      "metadata": {
        "colab": {
          "base_uri": "https://localhost:8080/"
        },
        "id": "hz5ILkaXwwJJ",
        "outputId": "34f50538-3371-42f6-ba2f-fcb9e892b33f"
      },
      "execution_count": null,
      "outputs": [
        {
          "output_type": "stream",
          "name": "stdout",
          "text": [
            "--2023-02-07 12:16:49--  https://www.cs.toronto.edu/~kriz/cifar-100-python.tar.gz\n",
            "Resolving www.cs.toronto.edu (www.cs.toronto.edu)... 128.100.3.30\n",
            "Connecting to www.cs.toronto.edu (www.cs.toronto.edu)|128.100.3.30|:443... connected.\n",
            "HTTP request sent, awaiting response... 200 OK\n",
            "Length: 169001437 (161M) [application/x-gzip]\n",
            "Saving to: ‘cifar-100-python.tar.gz’\n",
            "\n",
            "cifar-100-python.ta 100%[===================>] 161.17M  43.3MB/s    in 3.8s    \n",
            "\n",
            "2023-02-07 12:16:53 (42.4 MB/s) - ‘cifar-100-python.tar.gz’ saved [169001437/169001437]\n",
            "\n",
            "cifar-100-python/\n",
            "cifar-100-python/file.txt~\n",
            "cifar-100-python/train\n",
            "cifar-100-python/test\n",
            "cifar-100-python/meta\n"
          ]
        }
      ]
    },
    {
      "cell_type": "code",
      "execution_count": null,
      "metadata": {
        "id": "G5ylFp1GxKdd",
        "colab": {
          "base_uri": "https://localhost:8080/",
          "height": 266
        },
        "outputId": "aa3f77d1-70b9-4e1f-f335-2421b4442668"
      },
      "outputs": [
        {
          "output_type": "display_data",
          "data": {
            "text/plain": [
              "<Figure size 432x288 with 1 Axes>"
            ],
            "image/png": "[encoded data removed]"
          },
          "metadata": {
            "needs_background": "light"
          }
        }
      ],
      "source": [
        "import numpy as np\n",
        "import pickle\n",
        "import matplotlib.pyplot as plt\n",
        "import tensorflow as tf\n",
        "from tensorflow.keras.utils import to_categorical\n",
        "\n",
        "# Load the CIFAR-100 dataset\n",
        "def load_data(file):\n",
        "    with open(file, 'rb') as f:\n",
        "        data = pickle.load(f, encoding='bytes')\n",
        "        X = data[b'data']\n",
        "        y = data[b'fine_labels']\n",
        "        y = np.array(y)\n",
        "        X = X.reshape(X.shape[0], 32, 32, 3)\n",
        "        X = X.astype('float32') / 255\n",
        "    return X, y\n",
        "\n",
        "X_train, y_train = load_data('cifar-100-python/train')\n",
        "X_test, y_test = load_data('cifar-100-python/test')\n",
        "\n",
        "# Pre-process the labels\n",
        "num_classes = 100\n",
        "y_train = to_categorical(y_train, num_classes)\n",
        "y_test = to_categorical(y_test, num_classes)\n",
        "\n",
        "# Plot a sample image to verify the data has been loaded correctly\n",
        "plt.imshow(X_train[0])\n",
        "plt.show()\n"
      ]
    },
    {
      "cell_type": "code",
      "source": [
        "# Plot a sample image to verify the data has been loaded correctly\n",
        "plt.imshow(X_train[5])\n",
        "plt.show()"
      ],
      "metadata": {
        "colab": {
          "base_uri": "https://localhost:8080/",
          "height": 266
        },
        "id": "o0piKjh29QtN",
        "outputId": "e2d4daca-840d-4025-bc74-87b856fe6f1c"
      },
      "execution_count": null,
      "outputs": [
        {
          "output_type": "display_data",
          "data": {
            "text/plain": [
              "<Figure size 432x288 with 1 Axes>"
            ],
            "image/png": "[encoded data removed]"
          },
          "metadata": {
            "needs_background": "light"
          }
        }
      ]
    },
    {
      "cell_type": "markdown",
      "source": [
        "This code loads the CIFAR-100 dataset using the pickle library, which allows you to load Python objects saved in binary format. The data is then split into training and test sets. The images are reshaped from flat arrays to 3D arrays with dimensions (num_samples, 32, 32, 3) and scaled to values between 0 and 1. Finally, the labels are one-hot encoded to prepare them for use with a neural network."
      ],
      "metadata": {
        "id": "v1y1SadX0jZ0"
      }
    },
    {
      "cell_type": "code",
      "source": [],
      "metadata": {
        "id": "jBNr3c_M0bC7"
      },
      "execution_count": null,
      "outputs": []
    }
  ]
}