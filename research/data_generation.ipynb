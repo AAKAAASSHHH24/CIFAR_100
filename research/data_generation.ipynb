{
 "cells": [
  {
   "cell_type": "code",
   "execution_count": null,
   "metadata": {},
   "outputs": [],
   "source": []
  }
 ],
 "metadata": {
  "kernelspec": {
   "display_name": "cifar100",
   "language": "python",
   "name": "python3"
  },
  "language_info": {
   "name": "python",
   "version": "3.8.16"
  },
  "orig_nbformat": 4,
  "vscode": {
   "interpreter": {
    "hash": "fe438a21af38e17a9e3f5b2e4e1554680bdba9e77e0ce550e42c34514bf67863"
   }
  }
 },
 "nbformat": 4,
 "nbformat_minor": 2
}
