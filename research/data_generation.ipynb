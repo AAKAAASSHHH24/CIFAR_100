{
 "cells": [
  {
   "cell_type": "code",
   "execution_count": 1,
   "metadata": {},
   "outputs": [],
   "source": [
    "import keras\n",
    "import numpy as np\n",
    "import albumentations as albu\n",
    "import cv2\n",
    "import pandas as pd\n",
    "from keras.utils import to_categorical\n",
    "from sklearn.model_selection import train_test_split, StratifiedShuffleSplit"
   ]
  },
  {
   "cell_type": "code",
   "execution_count": 2,
   "metadata": {},
   "outputs": [],
   "source": [
    "from cifar100classifier.constants import *\n",
    "from cifar100classifier.utils import read_yaml, create_directories, unpickle"
   ]
  },
  {
   "cell_type": "code",
   "execution_count": 3,
   "metadata": {},
   "outputs": [],
   "source": [
    "from dataclasses import dataclass\n",
    "from pathlib import Path\n",
    "\n",
    "@dataclass(frozen=True)\n",
    "class DataGenerationConfig:\n",
    "    root_dir: Path\n",
    "    train_file: Path\n",
    "    test_file: Path\n",
    "    meta_file: Path"
   ]
  },
  {
   "cell_type": "code",
   "execution_count": 6,
   "metadata": {},
   "outputs": [
    {
     "data": {
      "text/plain": [
       "'e:\\\\STUDIES\\\\data_science\\\\ML\\\\Deep_Learning\\\\DL_PRACTICALS\\\\CIFAR_100'"
      ]
     },
     "execution_count": 6,
     "metadata": {},
     "output_type": "execute_result"
    }
   ],
   "source": [
    "pwd"
   ]
  },
  {
   "cell_type": "code",
   "execution_count": 5,
   "metadata": {},
   "outputs": [],
   "source": [
    "import os\n",
    "os.chdir(\"../\")"
   ]
  },
  {
   "cell_type": "code",
   "execution_count": null,
   "metadata": {},
   "outputs": [],
   "source": [
    "#train\n",
    "file = r'E:\\STUDIES\\data_science\\ML\\Deep_Learning\\DL_PRACTICALS\\cifar-100-python\\cifar-100-python\\train'\n",
    "train_data = unpickle(file)"
   ]
  },
  {
   "cell_type": "code",
   "execution_count": null,
   "metadata": {},
   "outputs": [],
   "source": [
    "#testData\n",
    "file = r'E:\\STUDIES\\data_science\\ML\\Deep_Learning\\DL_PRACTICALS\\cifar-100-python\\cifar-100-python\\test'\n",
    "test_data = unpickle(file)"
   ]
  },
  {
   "cell_type": "code",
   "execution_count": null,
   "metadata": {},
   "outputs": [],
   "source": [
    "#metaData\n",
    "file = r'E:\\STUDIES\\data_science\\ML\\Deep_Learning\\DL_PRACTICALS\\cifar-100-python\\cifar-100-python\\meta'\n",
    "meta_data = unpickle(file)"
   ]
  },
  {
   "cell_type": "code",
   "execution_count": null,
   "metadata": {},
   "outputs": [],
   "source": [
    "def resize_img(img, shape):\n",
    "    return cv2.resize(img, (shape[1], shape[0]), interpolation=cv2.INTER_CUBIC)"
   ]
  },
  {
   "cell_type": "code",
   "execution_count": 7,
   "metadata": {},
   "outputs": [],
   "source": [
    "#CONFIGURATION MANAGER DEFINED\n",
    "\n",
    "class ConfigurationManager:\n",
    "    def __init__(\n",
    "        self, \n",
    "        config_filepath = CONFIG_FILE_PATH,\n",
    "        params_filepath = PARAMS_FILE_PATH):\n",
    "        \n",
    "        self.config = read_yaml(config_filepath)\n",
    "        self.params = read_yaml(params_filepath)\n",
    "        create_directories([self.config.artifacts_root])\n",
    "\n",
    "    def get_data_generation_config(self) -> DataGenerationConfig:\n",
    "        config = self.config.data_generation\n",
    "        \n",
    "        create_directories([config.root_dir])\n",
    "\n",
    "        data_generation_config = DataGenerationConfig(\n",
    "            root_dir=config.root_dir,\n",
    "            train_file=config.train_file,\n",
    "            test_file=config.test_file,\n",
    "            meta_file=config.meta_file \n",
    "        )\n",
    "\n",
    "        return data_generation_config"
   ]
  },
  {
   "cell_type": "code",
   "execution_count": 12,
   "metadata": {},
   "outputs": [],
   "source": [
    "class DataGenerator:\n",
    "   def __init__(self, config: DataGenerationConfig, params_filepath = PARAMS_FILE_PATH ):\n",
    "      self.config = config\n",
    "      self.params = read_yaml(params_filepath)\n",
    "         \n",
    "   #function to open the files in the Python version of the dataset\n",
    "   def get_data(self):\n",
    "      train_data = unpickle(Path(self.config.train_file))\n",
    "      test_data = unpickle(Path(self.config.test_file))\n",
    "      \n",
    "      #4D array input for building the CNN model using Keras\n",
    "      X_train = train_data['data']\n",
    "      X_train = X_train.reshape(len(X_train),3,32,32).transpose(0,2,3,1)\n",
    "      \n",
    "      #transforming the testing dataset\n",
    "      X_test = test_data['data']\n",
    "      X_test = X_test.reshape(len(X_test),3,32,32).transpose(0,2,3,1)\n",
    "      \n",
    "      y_train = train_data['fine_labels']\n",
    "      y_train = to_categorical(y_train, self.params.n_classes)\n",
    "\n",
    "      y_test = test_data['fine_labels']\n",
    "      y_test = to_categorical(y_test, self.params.n_classes)\n",
    "      \n",
    "      return X_train, X_test, y_train, y_test\n",
    "   \n",
    "   def get_train_val_data(self):\n",
    "      sss = StratifiedShuffleSplit(n_splits=2, test_size=0.2, random_state=123)\n",
    "      \n",
    "      X_train, X_test, y_train, y_test = self.get_data()\n",
    "\n",
    "      for train_index, val_index in sss.split(X_train, y_train):\n",
    "         X_train_data, X_val_data = X_train[train_index], X_train[val_index]\n",
    "         y_train_data, y_val_data = y_train[train_index], y_train[val_index]\n",
    "      \n",
    "      return X_train_data, X_val_data, y_train_data, y_val_data\n",
    "   \n",
    "   def get_metadata(self): \n",
    "      \n",
    "      meta_data = unpickle(Path(self.config.meta_file)) \n",
    "      #storing coarse labels along with its number code in a dataframe\n",
    "      category = pd.DataFrame(meta_data['coarse_label_names'], columns=['SuperClass'])\n",
    "      \n",
    "      #storing fine labels along with its number code in a dataframe\n",
    "      subcategory = pd.DataFrame(meta_data['fine_label_names'], columns=['SubClass'])\n",
    "      \n",
    "      return category, subcategory\n",
    "   "
   ]
  },
  {
   "cell_type": "code",
   "execution_count": 13,
   "metadata": {},
   "outputs": [
    {
     "name": "stdout",
     "output_type": "stream",
     "text": [
      "[2023-02-25 20:11:47,387: INFO: common]: yaml file: configs\\config.yaml loaded successfully\n",
      "[2023-02-25 20:11:47,396: INFO: common]: yaml file: params.yaml loaded successfully\n",
      "[2023-02-25 20:11:47,398: INFO: common]: created directory at: artifacts\n",
      "[2023-02-25 20:11:47,401: INFO: common]: created directory at: artifacts/data_ingestion/cifar-100-python\n",
      "[2023-02-25 20:11:47,411: INFO: common]: yaml file: params.yaml loaded successfully\n"
     ]
    }
   ],
   "source": [
    "try:\n",
    "    config = ConfigurationManager()\n",
    "    data_generation_config = config.get_data_generation_config()\n",
    "    data_generation = DataGenerator(config=data_generation_config)\n",
    "    data_generation.get_train_val_data()\n",
    "    data_generation.get_metadata()\n",
    "except Exception as e:\n",
    "    raise e"
   ]
  },
  {
   "cell_type": "code",
   "execution_count": null,
   "metadata": {},
   "outputs": [],
   "source": [
    "class BaseModel(keras.utils.Sequence): \n",
    "    \n",
    "    \"\"\" defined as a subclass of Keras Sequence class, which provides efficient multi-threaded data loading and processing\"\"\"\n",
    "    \n",
    "    def __init__(self, images, labels=None, mode='fit', batch_size=batch_size, dim=(height, width), channels=channels, n_classes=n_classes, shuffle=True, augment=False):\n",
    "        \n",
    "        #initializing the configuration of the generator\n",
    "        self.images = images\n",
    "        self.labels = labels\n",
    "        self.mode = mode\n",
    "        self.batch_size = batch_size\n",
    "        self.dim = dim\n",
    "        self.channels = channels\n",
    "        self.n_classes = n_classes\n",
    "        self.shuffle = shuffle\n",
    "        self.augment = augment\n",
    "        self.on_epoch_end()\n",
    "   \n",
    "    #method to be called after every epoch\n",
    "    def on_epoch_end(self):\n",
    "        \n",
    "        \"\"\"This method generates an array of indexes based on the number of images in the \n",
    "        dataset and shuffles them if shuffle is set to True.\"\"\"\n",
    "        \n",
    "        self.indexes = np.arange(self.images.shape[0])\n",
    "        if self.shuffle == True:\n",
    "            np.random.shuffle(self.indexes)\n",
    "    \n",
    "    #return numbers of steps in an epoch using samples and batch size\n",
    "    def __len__(self):\n",
    "        \n",
    "        \"\"\"Returns the number of steps in an epoch, which is calculated as the \n",
    "        total number of samples divided by the batch size, rounded down to the nearest integer.\"\"\"\n",
    "        \n",
    "        return int(np.floor(len(self.images) / self.batch_size))\n",
    "    \n",
    "     #this method is called with the batch number as an argument to obtain a given batch of data\n",
    "    def __getitem__(self, index):\n",
    "        \n",
    "        \"\"\"This method is called with the batch number as an argument to obtain a given batch of data. \n",
    "        It generates a mini-batch of X and y, where X is an array of preprocessed images \n",
    "        and y is an array of corresponding labels (if mode is fit). \n",
    "        If augment is set to True, data augmentation is applied to the training dataset. \n",
    "        If mode is set to predict, only X is returned.\"\"\"\n",
    "        \n",
    "        #generate indexes of batch\n",
    "        batch_indexes = self.indexes[index * self.batch_size:(index+1) * self.batch_size]\n",
    "        \n",
    "        #generate mini-batch of X\n",
    "        X = np.empty((self.batch_size, *self.dim, self.channels))\n",
    "        \n",
    "        for i, ID in enumerate(batch_indexes):\n",
    "            #generate pre-processed image\n",
    "            img = self.images[ID]\n",
    "            #image rescaling\n",
    "            img = img.astype(np.float32)/255.\n",
    "            #resizing as per new dimensions\n",
    "            img = resize_img(img, self.dim)   # use the resize function\n",
    "            X[i] = img\n",
    "            \n",
    "        #generate mini-batch of y\n",
    "        if self.mode == 'fit':\n",
    "            y = self.labels[batch_indexes]\n",
    "            \n",
    "            #augmentation on the training dataset\n",
    "            if self.augment == True:\n",
    "                X = self.__augment_batch(X)\n",
    "            return X, y\n",
    "        \n",
    "        elif self.mode == 'predict':\n",
    "            return X\n",
    "        \n",
    "        else:\n",
    "            raise AttributeError(\"The mode should be set to either 'fit' or 'predict'.\")\n",
    "        \n",
    "    \n",
    "     #augmentation for one image\n",
    "    def __random_transform(self, img):\n",
    "        \n",
    "        \"\"\"This method applies a random transformation to a single image using the albumentations library, \n",
    "        which is a popular library for image augmentation.\"\"\"\n",
    "        \n",
    "        composition = albu.Compose([albu.HorizontalFlip(p=0.5),\n",
    "                                   albu.VerticalFlip(p=0.5),\n",
    "                                   albu.GridDistortion(p=0.2),\n",
    "                                   albu.ElasticTransform(p=0.2)])\n",
    "        return composition(image=img)['image']\n",
    "    \n",
    "    #augmentation for batch of images\n",
    "    def __augment_batch(self, img_batch):\n",
    "        \n",
    "        \"\"\"This method applies a random transformation to a batch of images by calling \n",
    "        the __random_transform method for each image in the batch.\"\"\"\n",
    "        \n",
    "        for i in range(img_batch.shape[0]):\n",
    "            img_batch[i] = self.__random_transform(img_batch[i])\n",
    "        return img_batch\n",
    "    "
   ]
  },
  {
   "cell_type": "code",
   "execution_count": null,
   "metadata": {},
   "outputs": [],
   "source": [
    "train_data_generator = DataGenerator(X_train_data, y_train_data, augment=True)\n",
    "valid_data_generator = DataGenerator(X_val_data, y_val_data, augment=False)"
   ]
  }
 ],
 "metadata": {
  "kernelspec": {
   "display_name": "cifar100",
   "language": "python",
   "name": "python3"
  },
  "language_info": {
   "codemirror_mode": {
    "name": "ipython",
    "version": 3
   },
   "file_extension": ".py",
   "mimetype": "text/x-python",
   "name": "python",
   "nbconvert_exporter": "python",
   "pygments_lexer": "ipython3",
   "version": "3.8.16"
  },
  "orig_nbformat": 4,
  "vscode": {
   "interpreter": {
    "hash": "fe438a21af38e17a9e3f5b2e4e1554680bdba9e77e0ce550e42c34514bf67863"
   }
  }
 },
 "nbformat": 4,
 "nbformat_minor": 2
}
